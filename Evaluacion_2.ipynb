{
  "cells": [
    {
      "cell_type": "markdown",
      "metadata": {
        "id": "view-in-github",
        "colab_type": "text"
      },
      "source": [
        "<a href=\"https://colab.research.google.com/github/santiagovilladiego/evaluaciones_python_202520/blob/main/Evaluacion_2.ipynb\" target=\"_parent\"><img src=\"https://colab.research.google.com/assets/colab-badge.svg\" alt=\"Open In Colab\"/></a>"
      ]
    },
    {
      "cell_type": "markdown",
      "source": [
        "\n",
        "# Evaluacion 2\n",
        "## Python aplicado a la Ingeniería 202520\n",
        "*Docente:* Miguel Ortiz\n",
        "\n",
        "*Estudiante:* Santiago Villadiego Barrios\n",
        "\n",
        "*email:* santiago.villadiego@upb.edu.co\n",
        "\n",
        "*Fecha:* 20/08/2025\n",
        "\n",
        "\n"
      ],
      "metadata": {
        "id": "yKl8gDadw01M"
      }
    },
    {
      "cell_type": "markdown",
      "source": [
        "Crear un sistema básico de robots que demuestre los conceptos fundamentales de POO en Python.\n"
      ],
      "metadata": {
        "id": "1kbGlgruxIar"
      }
    },
    {
      "cell_type": "code",
      "source": [
        "class Base_Robot:\n",
        "    def __init__(self, nombre: str, modelo: str,):\n",
        "        self.nombre = nombre\n",
        "        self.modelo = modelo\n",
        "        self.bateria = 100.0\n",
        "        self.distancia_recorrida = 0.0\n",
        "        self.velocidad = 0.0\n",
        "        self.direccion = 0\n",
        "        print(f\"Robot {self.nombre} de modelo {self.modelo} creado.\")\n",
        "    def __str__(self):\n",
        "        return f\"Robot {self.nombre} de modelo {self.modelo}, batería: {self.bateria}%, distancia recorrida: {self.distancia_recorrida}m, velocidad: {self.velocidad}m/s, dirección: {self.direccion}°\"\n",
        "    def moverse(self, velocidad, direccion, tiempo_minutos):\n",
        "        self.velocidad = velocidad\n",
        "        self.direccion = direccion\n",
        "        distancia = velocidad * (tiempo_minutos / 60.0)\n",
        "        self.distancia_recorrida += distancia\n",
        "        self.bateria -= distancia * 10\n",
        "        if self.bateria < 20:\n",
        "            print(f\"Bateria Baja!\")\n",
        "    def cargar(self, tiempo_minutos):\n",
        "        self.bateria += tiempo_minutos * 2\n",
        "        if self.bateria > 100:\n",
        "            self.bateria = 100\n",
        "            print(f\"{self.nombre} cargando... Bateria: {self.bateria}%\")\n",
        "    def obtener_estado(self):\n",
        "        print(f\"Estado de {self.nombre}:\")\n",
        "        print(f\"Batería: {self.bateria}%\")\n",
        "        print(f\"Distancia recorrida: {self.distancia_recorrida}m\")\n",
        "        print(f\"Velocidad: {self.velocidad}m/s\")\n",
        "        print(f\"Dirección: {self.direccion}°\")\n",
        "class Tipos_de_Robot(Base_Robot):\n",
        "    def __init__(self, nombre: str, modelo: str):\n",
        "        super().__init__(nombre, modelo)\n",
        "        self.cargo = 0\n",
        "    def moverse(self, velocidad, direccion, tiempo_minutos):\n",
        "        self.velocidad = velocidad\n",
        "        self.direccion = direccion\n",
        "        distancia = velocidad * (tiempo_minutos / 60.0)\n",
        "        self.distancia_recorrida += distancia\n",
        "        consumo_bateria = distancia * (10 + self.cargo * 2)\n",
        "        if self.cargo > 0:\n",
        "            consumo_bateria = consumo_bateria * 1.2\n",
        "            self.bateria -= consumo_bateria\n",
        "            if self.bateria < 20:\n",
        "                print(f\"Bateria Baja!\")\n",
        "    def cargar_cargo(self, peso):\n",
        "        self.cargo += peso\n",
        "        print(f\"cargando {peso}kg. Cargo total: {self.cargo}kg\")\n",
        "    def descargar_cargo(self, peso):\n",
        "        self.cargo = 0\n",
        "        print(f\"Carga descargada.\")\n",
        "\n",
        "\n",
        "\n",
        "robot1 = Base_Robot(\"R2D2\", \"Astromech\")\n",
        "robot2 = Base_Robot(\"C3PO\", \"Protocolo\")\n",
        "worker = WorkerRobot(\"WALL-E\", \"Compactador\")\n",
        "\n",
        "print(\"\\n2. PROBANDO MÉTODOS BÁSICOS:\")\n",
        "print(\"-\" * 40)\n",
        "\n",
        "# Mover cada robot (diferentes velocidades/direcciones/tiempos)\n",
        "print(\"\\n--- MOVIENDO ROBOTS ---\")\n",
        "robot1.move(15, 90, 45)    # 15 km/h, 90°, 45 minutos\n",
        "robot2.move(8, 180, 30)    # 8 km/h, 180°, 30 minutos\n",
        "worker.move(12, 45, 60)    # 12 km/h, 45°, 60 minutos\n",
        "\n",
        "# Cargar cada robot\n",
        "print(\"\\n--- CARGANDO ROBOTS ---\")\n",
        "robot1.charge(15)          # 15 minutos\n",
        "robot2.charge(20)          # 20 minutos\n",
        "worker.charge(10)          # 10 minutos\n",
        "\n",
        "# Mostrar status de cada robot\n",
        "print(\"\\n--- STATUS DE CADA ROBOT ---\")\n",
        "print(\"\\nRobot Básico 1:\")\n",
        "robot1.get_status()\n",
        "\n",
        "print(\"\\nRobot Básico 2:\")\n",
        "robot2.get_status()\n",
        "\n",
        "print(\"\\nWorkerRobot:\")\n",
        "worker.get_status()"
      ],
      "metadata": {
        "colab": {
          "base_uri": "https://localhost:8080/",
          "height": 349
        },
        "id": "lpYWLmJkxKq8",
        "outputId": "487025b2-4201-4d03-95ee-07ff091bf58b"
      },
      "execution_count": 5,
      "outputs": [
        {
          "output_type": "stream",
          "name": "stdout",
          "text": [
            "Robot R2D2 de modelo Astromech creado.\n",
            "Robot C3PO de modelo Protocolo creado.\n",
            "Robot WALL-E de modelo Compactador creado.\n",
            "\n",
            "2. PROBANDO MÉTODOS BÁSICOS:\n",
            "----------------------------------------\n",
            "\n",
            "--- MOVIENDO ROBOTS ---\n"
          ]
        },
        {
          "output_type": "error",
          "ename": "AttributeError",
          "evalue": "'Base_Robot' object has no attribute 'move'",
          "traceback": [
            "\u001b[0;31m---------------------------------------------------------------------------\u001b[0m",
            "\u001b[0;31mAttributeError\u001b[0m                            Traceback (most recent call last)",
            "\u001b[0;32m/tmp/ipython-input-3281672166.py\u001b[0m in \u001b[0;36m<cell line: 0>\u001b[0;34m()\u001b[0m\n\u001b[1;32m     62\u001b[0m \u001b[0;31m# Mover cada robot (diferentes velocidades/direcciones/tiempos)\u001b[0m\u001b[0;34m\u001b[0m\u001b[0;34m\u001b[0m\u001b[0m\n\u001b[1;32m     63\u001b[0m \u001b[0mprint\u001b[0m\u001b[0;34m(\u001b[0m\u001b[0;34m\"\\n--- MOVIENDO ROBOTS ---\"\u001b[0m\u001b[0;34m)\u001b[0m\u001b[0;34m\u001b[0m\u001b[0;34m\u001b[0m\u001b[0m\n\u001b[0;32m---> 64\u001b[0;31m \u001b[0mrobot1\u001b[0m\u001b[0;34m.\u001b[0m\u001b[0mmove\u001b[0m\u001b[0;34m(\u001b[0m\u001b[0;36m15\u001b[0m\u001b[0;34m,\u001b[0m \u001b[0;36m90\u001b[0m\u001b[0;34m,\u001b[0m \u001b[0;36m45\u001b[0m\u001b[0;34m)\u001b[0m    \u001b[0;31m# 15 km/h, 90°, 45 minutos\u001b[0m\u001b[0;34m\u001b[0m\u001b[0;34m\u001b[0m\u001b[0m\n\u001b[0m\u001b[1;32m     65\u001b[0m \u001b[0mrobot2\u001b[0m\u001b[0;34m.\u001b[0m\u001b[0mmove\u001b[0m\u001b[0;34m(\u001b[0m\u001b[0;36m8\u001b[0m\u001b[0;34m,\u001b[0m \u001b[0;36m180\u001b[0m\u001b[0;34m,\u001b[0m \u001b[0;36m30\u001b[0m\u001b[0;34m)\u001b[0m    \u001b[0;31m# 8 km/h, 180°, 30 minutos\u001b[0m\u001b[0;34m\u001b[0m\u001b[0;34m\u001b[0m\u001b[0m\n\u001b[1;32m     66\u001b[0m \u001b[0mworker\u001b[0m\u001b[0;34m.\u001b[0m\u001b[0mmove\u001b[0m\u001b[0;34m(\u001b[0m\u001b[0;36m12\u001b[0m\u001b[0;34m,\u001b[0m \u001b[0;36m45\u001b[0m\u001b[0;34m,\u001b[0m \u001b[0;36m60\u001b[0m\u001b[0;34m)\u001b[0m    \u001b[0;31m# 12 km/h, 45°, 60 minutos\u001b[0m\u001b[0;34m\u001b[0m\u001b[0;34m\u001b[0m\u001b[0m\n",
            "\u001b[0;31mAttributeError\u001b[0m: 'Base_Robot' object has no attribute 'move'"
          ]
        }
      ]
    }
  ],
  "metadata": {
    "colab": {
      "toc_visible": true,
      "provenance": [],
      "include_colab_link": true
    },
    "kernelspec": {
      "display_name": "Python 3",
      "name": "python3"
    }
  },
  "nbformat": 4,
  "nbformat_minor": 0
}