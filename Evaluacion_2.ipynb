{
  "cells": [
    {
      "cell_type": "markdown",
      "metadata": {
        "id": "view-in-github",
        "colab_type": "text"
      },
      "source": [
        "<a href=\"https://colab.research.google.com/github/santiagovilladiego/evaluaciones_python_202520/blob/main/Evaluacion_2.ipynb\" target=\"_parent\"><img src=\"https://colab.research.google.com/assets/colab-badge.svg\" alt=\"Open In Colab\"/></a>"
      ]
    },
    {
      "cell_type": "markdown",
      "source": [
        "\n",
        "# Evaluacion 2\n",
        "## Python aplicado a la Ingeniería 202520\n",
        "*Docente:* Miguel Ortiz\n",
        "\n",
        "*Estudiante:* Santiago Villadiego Barrios\n",
        "\n",
        "*email:* santiago.villadiego@upb.edu.co\n",
        "\n",
        "*Fecha:* 20/08/2025\n",
        "\n",
        "\n"
      ],
      "metadata": {
        "id": "yKl8gDadw01M"
      }
    },
    {
      "cell_type": "markdown",
      "source": [
        "Crear un sistema básico de robots que demuestre los conceptos fundamentales de POO en Python.\n"
      ],
      "metadata": {
        "id": "1kbGlgruxIar"
      }
    },
    {
      "cell_type": "code",
      "source": [
        "class Base_Robot:\n",
        "    def __init__(self, nombre: str, modelo: str,):\n",
        "        self.nombre = nombre\n",
        "        self.modelo = modelo\n",
        "        self.bateria = 100.0\n",
        "        self.distancia_recorrida = 0.0\n",
        "        self.velocidad = 0.0\n",
        "        self.direccion = 0\n",
        "        print(f\"Robot {self.nombre} de modelo {self.modelo} creado.\")\n",
        "    def __str__(self):\n",
        "        return f\"Robot {self.nombre} de modelo {self.modelo}, batería: {self.bateria}%, distancia recorrida: {self.distancia_recorrida}m, velocidad: {self.velocidad}m/s, dirección: {self.direccion}°\"\n",
        "    def moverse(self, velocidad, direccion, tiempo_minutos):\n",
        "        self.velocidad = velocidad\n",
        "        self.direccion = direccion\n",
        "        distancia = velocidad * (tiempo_minutos / 60.0)\n",
        "        self.distancia_recorrida += distancia\n",
        "        self.bateria -= distancia * 10\n",
        "        if self.bateria < 20:\n",
        "            print(f\"Bateria Baja!\")\n",
        "    def cargar(self, tiempo_minutos):\n",
        "        self.bateria += tiempo_minutos * 2\n",
        "        if self.bateria > 100:\n",
        "            self.bateria = 100\n",
        "            print(f\"{self.nombre} cargando... Bateria: {self.bateria}%\")\n",
        "    def obtener_estado(self):\n",
        "        print(f\"Estado de {self.nombre}:\")\n",
        "        print(f\"Batería: {self.bateria}%\")\n",
        "        print(f\"Distancia recorrida: {self.distancia_recorrida}m\")\n",
        "        print(f\"Velocidad: {self.velocidad}m/s\")\n",
        "        print(f\"Dirección: {self.direccion}°\")\n",
        "class Tipos_de_Robot(Base_Robot):\n",
        "    def __init__(self, nombre: str, modelo: str):\n",
        "        super().__init__(nombre, modelo)\n",
        "        self.cargo = 0\n",
        "    def moverse(self, velocidad, direccion, tiempo_minutos):\n",
        "        self.velocidad = velocidad\n",
        "        self.direccion = direccion\n",
        "        distancia = velocidad * (tiempo_minutos / 60.0)\n",
        "        self.distancia_recorrida += distancia\n",
        "        consumo_bateria = distancia * (10 + self.cargo * 2)\n",
        "        if self.cargo > 0:\n",
        "            consumo_bateria = consumo_bateria * 1.2\n",
        "            self.bateria -= consumo_bateria\n",
        "            if self.bateria < 20:\n",
        "                print(f\"Bateria Baja!\")\n",
        "    def cargar_cargo(self, peso):\n",
        "        self.cargo += peso\n",
        "        print(f\"cargando {peso}kg. Cargo total: {self.cargo}kg\")\n",
        "    def descargar_cargo(self, peso):\n",
        "        self.cargo = 0\n",
        "        print(f\"Carga descargada.\")\n",
        "\n",
        "\n",
        "\n",
        "\n",
        "robot1 = Base_Robot(\"R2D2\", \"Astromech\")\n",
        "robot2 = Base_Robot(\"C3PO\", \"Protocolo\")\n",
        "\n",
        "# Crear robot de trabajo\n",
        "worker = Tipos_de_Robot(\"WALL-E\", \"Compactador\")\n",
        "\n",
        "print(\"\\n2. ESTADO INICIAL:\")\n",
        "print(\"-\" * 25)\n",
        "print(robot1)\n",
        "print(robot2)\n",
        "print(worker)\n",
        "\n",
        "print(\"\\n3. MOVIENDO ROBOTS:\")\n",
        "print(\"-\" * 25)\n",
        "# Parámetros: moverse(velocidad, direccion, tiempo_minutos)\n",
        "robot1.moverse(20, 90, 30)    # 20 m/s, 90°, 30 minutos\n",
        "robot2.moverse(15, 180, 45)   # 15 m/s, 180°, 45 minutos\n",
        "worker.moverse(10, 45, 60)    # 10 m/s, 45°, 60 minutos\n",
        "\n",
        "print(\"\\n4. ESTADO DESPUÉS DE MOVERSE:\")\n",
        "print(\"-\" * 35)\n",
        "print(robot1)\n",
        "print(robot2)\n",
        "print(worker)\n",
        "\n",
        "print(\"\\n5. CARGANDO ROBOTS:\")\n",
        "print(\"-\" * 25)\n",
        "# Parámetros: cargar(tiempo_minutos)\n",
        "robot1.cargar(15)    # 15 minutos de carga\n",
        "robot2.cargar(20)    # 20 minutos de carga\n",
        "worker.cargar(10)    # 10 minutos de carga\n",
        "\n",
        "print(\"\\n6. TRABAJANDO CON CARGO (solo worker):\")\n",
        "print(\"-\" * 40)\n",
        "# Parámetros: cargar_cargo(peso)\n",
        "worker.cargar_cargo(50)    # Cargar 50 kg\n",
        "worker.cargar_cargo(30)    # Cargar 30 kg más\n",
        "\n",
        "print(\"\\nMoviendo worker con cargo:\")\n",
        "worker.moverse(8, 270, 40)  # 8 m/s, 270°, 40 minutos\n",
        "\n",
        "print(\"\\nDescargando:\")\n",
        "# Parámetros: descargar_cargo(peso) - aunque peso no se usa\n",
        "worker.descargar_cargo(0)\n",
        "\n",
        "print(\"\\n7. ESTADO FINAL DE TODOS LOS ROBOTS:\")\n",
        "print(\"-\" * 45)\n",
        "robot1.obtener_estado()\n",
        "print()\n",
        "robot2.obtener_estado()\n",
        "print()\n",
        "worker.obtener_estado()"
      ],
      "metadata": {
        "id": "lpYWLmJkxKq8"
      },
      "execution_count": null,
      "outputs": []
    }
  ],
  "metadata": {
    "colab": {
      "toc_visible": true,
      "provenance": [],
      "include_colab_link": true
    },
    "kernelspec": {
      "display_name": "Python 3",
      "name": "python3"
    }
  },
  "nbformat": 4,
  "nbformat_minor": 0
}