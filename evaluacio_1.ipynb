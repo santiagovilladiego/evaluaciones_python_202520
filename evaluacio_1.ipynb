{
  "cells": [
    {
      "cell_type": "markdown",
      "metadata": {
        "id": "view-in-github",
        "colab_type": "text"
      },
      "source": [
        "<a href=\"https://colab.research.google.com/github/santiagovilladiego/evaluaciones_python_202520/blob/main/evaluacio_1.ipynb\" target=\"_parent\"><img src=\"https://colab.research.google.com/assets/colab-badge.svg\" alt=\"Open In Colab\"/></a>"
      ]
    },
    {
      "cell_type": "markdown",
      "source": [
        "\n",
        "# Evaluacion 1\n",
        "## Python aplicado a la Ingeniería 202520\n",
        "*Docente:* Miguel Ortiz\n",
        "\n",
        "*Estudiante:* Santiago Villadiego Barrios\n",
        "\n",
        "*email:* santiago.villadiego@upb.edu.co\n",
        "\n",
        "*Fecha:* 30/07/2025\n",
        "\n",
        "\n"
      ],
      "metadata": {
        "id": "MrcvHw5_2Cd4"
      }
    },
    {
      "cell_type": "markdown",
      "source": [
        "Problem #1: letter_frequency\n",
        "Write a program that receives a sentence from the user and displays how many times each unique\n",
        "letter appears. Ignore spaces and make the comparison case-insensitive (i.e., treat 'A' and 'a' as the\n",
        "same letter)."
      ],
      "metadata": {
        "id": "fvb45Egr2-pC"
      }
    },
    {
      "cell_type": "code",
      "source": [
        "#ejercicio 1\n",
        "#Entradas\n",
        "palabra= \"cuantas veces aparece cada letra \"\n",
        "def contar_letras(palabra):\n",
        "    vacio = {} # se crea un diccionario vacio\n",
        "    for letra in palabra:\n",
        "        letra = letra.lower() # funcion para que no haya diferencia entre mayuscula y minusculas\n",
        "        if letra in vacio:\n",
        "             vacio[letra] += 1 #contador\n",
        "        else:\n",
        "             vacio[letra] = 1\n",
        "    return vacio\n",
        "\n",
        "\n",
        "#salida\n",
        "print(contar_letras(palabra))"
      ],
      "metadata": {
        "id": "ozKOaVponGz1",
        "outputId": "7013d8b2-fdd6-43fd-ea76-76030a880fc4",
        "colab": {
          "base_uri": "https://localhost:8080/"
        }
      },
      "execution_count": 1,
      "outputs": [
        {
          "output_type": "stream",
          "name": "stdout",
          "text": [
            "{'c': 4, 'u': 1, 'a': 7, 'n': 1, 't': 2, 's': 2, ' ': 5, 'v': 1, 'e': 5, 'p': 1, 'r': 2, 'd': 1, 'l': 1}\n"
          ]
        }
      ]
    },
    {
      "cell_type": "markdown",
      "source": [
        "Problem #2: word_initial_count\n",
        "Write a program that receives a list of words and counts how many of them start with the same initial\n",
        "letter. Ignore case sensitivity.\n"
      ],
      "metadata": {
        "id": "fJp243dk3Qax"
      }
    },
    {
      "cell_type": "code",
      "source": [
        "# Ejercicio 2\n",
        "# Entradas\n",
        "palabras = [\"python\", \"pedro\", \"pascal\", \"gym\", \"gatos\", \"no\", \"se\", \"programar\", \"chat\", \"gpt\"]\n",
        "\n",
        "def contar_iniciales(lista):\n",
        "    conteo = {}\n",
        "    for palabra in lista:\n",
        "        inicial = palabra[0].lower()  # Tomamos la primera letra y la pasamos a minúscula\n",
        "        if inicial in conteo:\n",
        "            conteo[inicial] += 1\n",
        "        else:\n",
        "            conteo[inicial] = 1\n",
        "    return conteo\n",
        "\n",
        "# Salida\n",
        "print(contar_iniciales(palabras))\n"
      ],
      "metadata": {
        "colab": {
          "base_uri": "https://localhost:8080/"
        },
        "id": "_dAbWGuE3PkF",
        "outputId": "2ef9ea67-e0bd-4d5e-80cb-4ffdd40af42f"
      },
      "execution_count": 2,
      "outputs": [
        {
          "output_type": "stream",
          "name": "stdout",
          "text": [
            "{'p': 4, 'g': 3, 'n': 1, 's': 1, 'c': 1}\n"
          ]
        }
      ]
    }
  ],
  "metadata": {
    "colab": {
      "toc_visible": true,
      "provenance": [],
      "include_colab_link": true
    },
    "kernelspec": {
      "display_name": "Python 3",
      "name": "python3"
    }
  },
  "nbformat": 4,
  "nbformat_minor": 0
}